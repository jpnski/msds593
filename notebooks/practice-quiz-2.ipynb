{
 "cells": [
  {
   "cell_type": "code",
   "execution_count": 93,
   "metadata": {},
   "outputs": [],
   "source": [
    "import numpy as np\n",
    "import pandas as pd\n",
    "\n",
    "%config InlineBackend.figure_format = 'retina'"
   ]
  },
  {
   "cell_type": "code",
   "execution_count": 94,
   "metadata": {},
   "outputs": [],
   "source": [
    "df = pd.read_csv(\"cereal.csv\")"
   ]
  },
  {
   "cell_type": "code",
   "execution_count": 95,
   "metadata": {},
   "outputs": [
    {
     "data": {
      "text/html": [
       "<div>\n",
       "<style scoped>\n",
       "    .dataframe tbody tr th:only-of-type {\n",
       "        vertical-align: middle;\n",
       "    }\n",
       "\n",
       "    .dataframe tbody tr th {\n",
       "        vertical-align: top;\n",
       "    }\n",
       "\n",
       "    .dataframe thead th {\n",
       "        text-align: right;\n",
       "    }\n",
       "</style>\n",
       "<table border=\"1\" class=\"dataframe\">\n",
       "  <thead>\n",
       "    <tr style=\"text-align: right;\">\n",
       "      <th></th>\n",
       "      <th>name</th>\n",
       "      <th>mfr</th>\n",
       "      <th>type</th>\n",
       "      <th>calories</th>\n",
       "      <th>protein</th>\n",
       "      <th>fat</th>\n",
       "      <th>sodium</th>\n",
       "      <th>fiber</th>\n",
       "      <th>carbo</th>\n",
       "      <th>sugars</th>\n",
       "      <th>potass</th>\n",
       "      <th>vitamins</th>\n",
       "      <th>shelf</th>\n",
       "      <th>weight</th>\n",
       "      <th>cups</th>\n",
       "      <th>rating</th>\n",
       "    </tr>\n",
       "  </thead>\n",
       "  <tbody>\n",
       "    <tr>\n",
       "      <th>0</th>\n",
       "      <td>100% Bran</td>\n",
       "      <td>N</td>\n",
       "      <td>C</td>\n",
       "      <td>70</td>\n",
       "      <td>4</td>\n",
       "      <td>1</td>\n",
       "      <td>130</td>\n",
       "      <td>10.0</td>\n",
       "      <td>5.0</td>\n",
       "      <td>6</td>\n",
       "      <td>280</td>\n",
       "      <td>25</td>\n",
       "      <td>3</td>\n",
       "      <td>1.0</td>\n",
       "      <td>0.33</td>\n",
       "      <td>68.402973</td>\n",
       "    </tr>\n",
       "    <tr>\n",
       "      <th>1</th>\n",
       "      <td>100% Natural Bran</td>\n",
       "      <td>Q</td>\n",
       "      <td>C</td>\n",
       "      <td>120</td>\n",
       "      <td>3</td>\n",
       "      <td>5</td>\n",
       "      <td>15</td>\n",
       "      <td>2.0</td>\n",
       "      <td>8.0</td>\n",
       "      <td>8</td>\n",
       "      <td>135</td>\n",
       "      <td>0</td>\n",
       "      <td>3</td>\n",
       "      <td>1.0</td>\n",
       "      <td>1.00</td>\n",
       "      <td>33.983679</td>\n",
       "    </tr>\n",
       "    <tr>\n",
       "      <th>2</th>\n",
       "      <td>All-Bran</td>\n",
       "      <td>K</td>\n",
       "      <td>C</td>\n",
       "      <td>70</td>\n",
       "      <td>4</td>\n",
       "      <td>1</td>\n",
       "      <td>260</td>\n",
       "      <td>9.0</td>\n",
       "      <td>7.0</td>\n",
       "      <td>5</td>\n",
       "      <td>320</td>\n",
       "      <td>25</td>\n",
       "      <td>3</td>\n",
       "      <td>1.0</td>\n",
       "      <td>0.33</td>\n",
       "      <td>59.425505</td>\n",
       "    </tr>\n",
       "    <tr>\n",
       "      <th>3</th>\n",
       "      <td>All-Bran with Extra Fiber</td>\n",
       "      <td>K</td>\n",
       "      <td>C</td>\n",
       "      <td>50</td>\n",
       "      <td>4</td>\n",
       "      <td>0</td>\n",
       "      <td>140</td>\n",
       "      <td>14.0</td>\n",
       "      <td>8.0</td>\n",
       "      <td>0</td>\n",
       "      <td>330</td>\n",
       "      <td>25</td>\n",
       "      <td>3</td>\n",
       "      <td>1.0</td>\n",
       "      <td>0.50</td>\n",
       "      <td>93.704912</td>\n",
       "    </tr>\n",
       "    <tr>\n",
       "      <th>4</th>\n",
       "      <td>Almond Delight</td>\n",
       "      <td>R</td>\n",
       "      <td>C</td>\n",
       "      <td>110</td>\n",
       "      <td>2</td>\n",
       "      <td>2</td>\n",
       "      <td>200</td>\n",
       "      <td>1.0</td>\n",
       "      <td>14.0</td>\n",
       "      <td>8</td>\n",
       "      <td>-1</td>\n",
       "      <td>25</td>\n",
       "      <td>3</td>\n",
       "      <td>1.0</td>\n",
       "      <td>0.75</td>\n",
       "      <td>34.384843</td>\n",
       "    </tr>\n",
       "  </tbody>\n",
       "</table>\n",
       "</div>"
      ],
      "text/plain": [
       "                        name mfr type  calories  protein  fat  sodium  fiber  \\\n",
       "0                  100% Bran   N    C        70        4    1     130   10.0   \n",
       "1          100% Natural Bran   Q    C       120        3    5      15    2.0   \n",
       "2                   All-Bran   K    C        70        4    1     260    9.0   \n",
       "3  All-Bran with Extra Fiber   K    C        50        4    0     140   14.0   \n",
       "4             Almond Delight   R    C       110        2    2     200    1.0   \n",
       "\n",
       "   carbo  sugars  potass  vitamins  shelf  weight  cups     rating  \n",
       "0    5.0       6     280        25      3     1.0  0.33  68.402973  \n",
       "1    8.0       8     135         0      3     1.0  1.00  33.983679  \n",
       "2    7.0       5     320        25      3     1.0  0.33  59.425505  \n",
       "3    8.0       0     330        25      3     1.0  0.50  93.704912  \n",
       "4   14.0       8      -1        25      3     1.0  0.75  34.384843  "
      ]
     },
     "execution_count": 95,
     "metadata": {},
     "output_type": "execute_result"
    }
   ],
   "source": [
    "df.head()"
   ]
  },
  {
   "cell_type": "markdown",
   "metadata": {},
   "source": [
    "### Q1: What are the 5 cereals with the least amount of calories per volume? (Use cups for volume) "
   ]
  },
  {
   "cell_type": "code",
   "execution_count": 96,
   "metadata": {},
   "outputs": [],
   "source": [
    "df[\"calories_per_cup\"] = df[\"calories\"]/df[\"cups\"]"
   ]
  },
  {
   "cell_type": "code",
   "execution_count": 141,
   "metadata": {},
   "outputs": [
    {
     "data": {
      "text/html": [
       "<div>\n",
       "<style scoped>\n",
       "    .dataframe tbody tr th:only-of-type {\n",
       "        vertical-align: middle;\n",
       "    }\n",
       "\n",
       "    .dataframe tbody tr th {\n",
       "        vertical-align: top;\n",
       "    }\n",
       "\n",
       "    .dataframe thead th {\n",
       "        text-align: right;\n",
       "    }\n",
       "</style>\n",
       "<table border=\"1\" class=\"dataframe\">\n",
       "  <thead>\n",
       "    <tr style=\"text-align: right;\">\n",
       "      <th></th>\n",
       "      <th>name</th>\n",
       "      <th>calories_per_cup</th>\n",
       "    </tr>\n",
       "  </thead>\n",
       "  <tbody>\n",
       "    <tr>\n",
       "      <th>54</th>\n",
       "      <td>Puffed Rice</td>\n",
       "      <td>50.000000</td>\n",
       "    </tr>\n",
       "    <tr>\n",
       "      <th>55</th>\n",
       "      <td>Puffed Wheat</td>\n",
       "      <td>50.000000</td>\n",
       "    </tr>\n",
       "    <tr>\n",
       "      <th>40</th>\n",
       "      <td>Kix</td>\n",
       "      <td>73.333333</td>\n",
       "    </tr>\n",
       "    <tr>\n",
       "      <th>63</th>\n",
       "      <td>Shredded Wheat</td>\n",
       "      <td>80.000000</td>\n",
       "    </tr>\n",
       "    <tr>\n",
       "      <th>37</th>\n",
       "      <td>Honey-comb</td>\n",
       "      <td>82.706767</td>\n",
       "    </tr>\n",
       "  </tbody>\n",
       "</table>\n",
       "</div>"
      ],
      "text/plain": [
       "              name  calories_per_cup\n",
       "54     Puffed Rice         50.000000\n",
       "55    Puffed Wheat         50.000000\n",
       "40             Kix         73.333333\n",
       "63  Shredded Wheat         80.000000\n",
       "37      Honey-comb         82.706767"
      ]
     },
     "execution_count": 141,
     "metadata": {},
     "output_type": "execute_result"
    }
   ],
   "source": [
    "df2 = df[[\"name\", \"calories_per_cup\"]].sort_values(by=\"calories_per_cup\")\n",
    "df2[:5]"
   ]
  },
  {
   "cell_type": "markdown",
   "metadata": {},
   "source": [
    "### Q2: What is the manufacturer that has the highest average ratings?"
   ]
  },
  {
   "cell_type": "code",
   "execution_count": 99,
   "metadata": {},
   "outputs": [
    {
     "data": {
      "text/html": [
       "<div>\n",
       "<style scoped>\n",
       "    .dataframe tbody tr th:only-of-type {\n",
       "        vertical-align: middle;\n",
       "    }\n",
       "\n",
       "    .dataframe tbody tr th {\n",
       "        vertical-align: top;\n",
       "    }\n",
       "\n",
       "    .dataframe thead th {\n",
       "        text-align: right;\n",
       "    }\n",
       "</style>\n",
       "<table border=\"1\" class=\"dataframe\">\n",
       "  <thead>\n",
       "    <tr style=\"text-align: right;\">\n",
       "      <th></th>\n",
       "      <th>rating</th>\n",
       "    </tr>\n",
       "    <tr>\n",
       "      <th>mfr</th>\n",
       "      <th></th>\n",
       "    </tr>\n",
       "  </thead>\n",
       "  <tbody>\n",
       "    <tr>\n",
       "      <th>N</th>\n",
       "      <td>67.968567</td>\n",
       "    </tr>\n",
       "    <tr>\n",
       "      <th>A</th>\n",
       "      <td>54.850917</td>\n",
       "    </tr>\n",
       "    <tr>\n",
       "      <th>K</th>\n",
       "      <td>44.038462</td>\n",
       "    </tr>\n",
       "    <tr>\n",
       "      <th>Q</th>\n",
       "      <td>42.915990</td>\n",
       "    </tr>\n",
       "    <tr>\n",
       "      <th>P</th>\n",
       "      <td>41.705744</td>\n",
       "    </tr>\n",
       "    <tr>\n",
       "      <th>R</th>\n",
       "      <td>41.542997</td>\n",
       "    </tr>\n",
       "    <tr>\n",
       "      <th>G</th>\n",
       "      <td>34.485852</td>\n",
       "    </tr>\n",
       "  </tbody>\n",
       "</table>\n",
       "</div>"
      ],
      "text/plain": [
       "        rating\n",
       "mfr           \n",
       "N    67.968567\n",
       "A    54.850917\n",
       "K    44.038462\n",
       "Q    42.915990\n",
       "P    41.705744\n",
       "R    41.542997\n",
       "G    34.485852"
      ]
     },
     "execution_count": 99,
     "metadata": {},
     "output_type": "execute_result"
    }
   ],
   "source": [
    "df2 = df[[\"mfr\", \"rating\"]].groupby(\"mfr\").mean()\n",
    "df2.sort_values(by=\"rating\", ascending=False)"
   ]
  },
  {
   "cell_type": "code",
   "execution_count": 109,
   "metadata": {},
   "outputs": [
    {
     "data": {
      "text/plain": [
       "'N'"
      ]
     },
     "execution_count": 109,
     "metadata": {},
     "output_type": "execute_result"
    }
   ],
   "source": [
    "df2.sort_values(by=\"rating\", ascending=False).index[0]"
   ]
  },
  {
   "cell_type": "markdown",
   "metadata": {},
   "source": [
    "### Q3: Carbohydrates, sugars and Potassium have some negative values. Replace negative values with the mean for the column. Provide a table with mean values for \"carbo\",\"sugars\" and \"potass\".\t"
   ]
  },
  {
   "cell_type": "code",
   "execution_count": 113,
   "metadata": {},
   "outputs": [],
   "source": [
    "df3 = df[[\"carbo\",\"sugars\",\"potass\"]].copy()"
   ]
  },
  {
   "cell_type": "code",
   "execution_count": 119,
   "metadata": {},
   "outputs": [
    {
     "data": {
      "text/plain": [
       "14.802631578947368"
      ]
     },
     "execution_count": 119,
     "metadata": {},
     "output_type": "execute_result"
    }
   ],
   "source": [
    "df3[df3[\"carbo\"] > 0].carbo.mean()"
   ]
  },
  {
   "cell_type": "code",
   "execution_count": 120,
   "metadata": {},
   "outputs": [
    {
     "data": {
      "text/plain": [
       "14.597402597402597"
      ]
     },
     "execution_count": 120,
     "metadata": {},
     "output_type": "execute_result"
    }
   ],
   "source": [
    "df3[\"carbo\"].mean()"
   ]
  },
  {
   "cell_type": "code",
   "execution_count": 111,
   "metadata": {},
   "outputs": [],
   "source": [
    "for col in [\"carbo\",\"sugars\",\"potass\"]:\n",
    "    m = df3[col].mean()\n",
    "    df3[col] = df3[col].apply(lambda x: m if x < 0 else x)"
   ]
  },
  {
   "cell_type": "code",
   "execution_count": 142,
   "metadata": {},
   "outputs": [],
   "source": [
    "# better version as pointed out by Nicolas\n",
    "for col in [\"carbo\",\"sugars\",\"potass\"]:\n",
    "    m = df3[df3[col] > 0].carbo.mean()\n",
    "    df3[col] = df3[col].apply(lambda x: m if x < 0 else x)"
   ]
  },
  {
   "cell_type": "code",
   "execution_count": 144,
   "metadata": {},
   "outputs": [
    {
     "data": {
      "text/plain": [
       "carbo     14.802632\n",
       "sugars     7.127307\n",
       "potass    96.488380\n",
       "dtype: float64"
      ]
     },
     "execution_count": 144,
     "metadata": {},
     "output_type": "execute_result"
    }
   ],
   "source": [
    "df3.mean()"
   ]
  },
  {
   "cell_type": "code",
   "execution_count": 124,
   "metadata": {},
   "outputs": [
    {
     "data": {
      "text/plain": [
       "96.48838004101162"
      ]
     },
     "execution_count": 124,
     "metadata": {},
     "output_type": "execute_result"
    }
   ],
   "source": [
    "# extra: what is the column with the highest mean; return the mean\n",
    "m = df3.mean()\n",
    "m['potass']"
   ]
  },
  {
   "cell_type": "markdown",
   "metadata": {},
   "source": [
    "### Q4: How many manufacturers have cold products? How many have hot products?"
   ]
  },
  {
   "cell_type": "code",
   "execution_count": 125,
   "metadata": {},
   "outputs": [
    {
     "data": {
      "text/plain": [
       "(6,)"
      ]
     },
     "execution_count": 125,
     "metadata": {},
     "output_type": "execute_result"
    }
   ],
   "source": [
    "cold = df[df.type == \"C\"].mfr\n",
    "cold.unique().shape"
   ]
  },
  {
   "cell_type": "code",
   "execution_count": 127,
   "metadata": {},
   "outputs": [
    {
     "data": {
      "text/plain": [
       "array(['N', 'Q', 'K', 'R', 'G', 'P'], dtype=object)"
      ]
     },
     "execution_count": 127,
     "metadata": {},
     "output_type": "execute_result"
    }
   ],
   "source": [
    "cold.unique()"
   ]
  },
  {
   "cell_type": "code",
   "execution_count": 126,
   "metadata": {},
   "outputs": [
    {
     "data": {
      "text/plain": [
       "(3,)"
      ]
     },
     "execution_count": 126,
     "metadata": {},
     "output_type": "execute_result"
    }
   ],
   "source": [
    "hot = df[df.type == \"H\"].mfr\n",
    "hot.unique().shape"
   ]
  },
  {
   "cell_type": "code",
   "execution_count": 128,
   "metadata": {},
   "outputs": [
    {
     "data": {
      "text/plain": [
       "array(['N', 'A', 'Q'], dtype=object)"
      ]
     },
     "execution_count": 128,
     "metadata": {},
     "output_type": "execute_result"
    }
   ],
   "source": [
    "hot.unique()"
   ]
  },
  {
   "cell_type": "markdown",
   "metadata": {},
   "source": [
    "### Q5: What is the most common weight per serving?"
   ]
  },
  {
   "cell_type": "code",
   "execution_count": 55,
   "metadata": {},
   "outputs": [
    {
     "data": {
      "text/plain": [
       "1.00    64\n",
       "1.33     5\n",
       "0.50     2\n",
       "1.50     2\n",
       "1.25     2\n",
       "1.30     1\n",
       "0.83     1\n",
       "Name: weight, dtype: int64"
      ]
     },
     "execution_count": 55,
     "metadata": {},
     "output_type": "execute_result"
    }
   ],
   "source": [
    "df.weight.value_counts()"
   ]
  },
  {
   "cell_type": "code",
   "execution_count": 130,
   "metadata": {},
   "outputs": [
    {
     "data": {
      "text/plain": [
       "1.0"
      ]
     },
     "execution_count": 130,
     "metadata": {},
     "output_type": "execute_result"
    }
   ],
   "source": [
    "df.weight.value_counts().index[0]"
   ]
  },
  {
   "cell_type": "code",
   "execution_count": 153,
   "metadata": {},
   "outputs": [
    {
     "data": {
      "text/plain": [
       "64"
      ]
     },
     "execution_count": 153,
     "metadata": {},
     "output_type": "execute_result"
    }
   ],
   "source": [
    "df.weight.value_counts().iloc[0]"
   ]
  },
  {
   "cell_type": "markdown",
   "metadata": {},
   "source": [
    "### Q6: What are the two numerical variables with the highest correlation (in absolute value)?"
   ]
  },
  {
   "cell_type": "code",
   "execution_count": 145,
   "metadata": {},
   "outputs": [
    {
     "data": {
      "text/html": [
       "<div>\n",
       "<style scoped>\n",
       "    .dataframe tbody tr th:only-of-type {\n",
       "        vertical-align: middle;\n",
       "    }\n",
       "\n",
       "    .dataframe tbody tr th {\n",
       "        vertical-align: top;\n",
       "    }\n",
       "\n",
       "    .dataframe thead th {\n",
       "        text-align: right;\n",
       "    }\n",
       "</style>\n",
       "<table border=\"1\" class=\"dataframe\">\n",
       "  <thead>\n",
       "    <tr style=\"text-align: right;\">\n",
       "      <th></th>\n",
       "      <th>calories</th>\n",
       "      <th>protein</th>\n",
       "      <th>fat</th>\n",
       "      <th>sodium</th>\n",
       "      <th>fiber</th>\n",
       "      <th>carbo</th>\n",
       "      <th>sugars</th>\n",
       "      <th>potass</th>\n",
       "      <th>vitamins</th>\n",
       "      <th>shelf</th>\n",
       "      <th>weight</th>\n",
       "      <th>cups</th>\n",
       "      <th>rating</th>\n",
       "      <th>calories_per_cup</th>\n",
       "    </tr>\n",
       "  </thead>\n",
       "  <tbody>\n",
       "    <tr>\n",
       "      <th>calories</th>\n",
       "      <td>1.000000</td>\n",
       "      <td>0.019066</td>\n",
       "      <td>0.498610</td>\n",
       "      <td>0.300649</td>\n",
       "      <td>-0.293413</td>\n",
       "      <td>0.250681</td>\n",
       "      <td>0.562340</td>\n",
       "      <td>-0.066609</td>\n",
       "      <td>0.265356</td>\n",
       "      <td>0.097234</td>\n",
       "      <td>0.696091</td>\n",
       "      <td>0.087200</td>\n",
       "      <td>-0.689376</td>\n",
       "      <td>0.337821</td>\n",
       "    </tr>\n",
       "    <tr>\n",
       "      <th>protein</th>\n",
       "      <td>0.019066</td>\n",
       "      <td>1.000000</td>\n",
       "      <td>0.208431</td>\n",
       "      <td>-0.054674</td>\n",
       "      <td>0.500330</td>\n",
       "      <td>-0.130864</td>\n",
       "      <td>-0.329142</td>\n",
       "      <td>0.549407</td>\n",
       "      <td>0.007335</td>\n",
       "      <td>0.133865</td>\n",
       "      <td>0.216158</td>\n",
       "      <td>-0.244469</td>\n",
       "      <td>0.470618</td>\n",
       "      <td>0.220932</td>\n",
       "    </tr>\n",
       "    <tr>\n",
       "      <th>fat</th>\n",
       "      <td>0.498610</td>\n",
       "      <td>0.208431</td>\n",
       "      <td>1.000000</td>\n",
       "      <td>-0.005407</td>\n",
       "      <td>0.016719</td>\n",
       "      <td>-0.318043</td>\n",
       "      <td>0.270819</td>\n",
       "      <td>0.193279</td>\n",
       "      <td>-0.031156</td>\n",
       "      <td>0.263691</td>\n",
       "      <td>0.214625</td>\n",
       "      <td>-0.175892</td>\n",
       "      <td>-0.409284</td>\n",
       "      <td>0.334962</td>\n",
       "    </tr>\n",
       "    <tr>\n",
       "      <th>sodium</th>\n",
       "      <td>0.300649</td>\n",
       "      <td>-0.054674</td>\n",
       "      <td>-0.005407</td>\n",
       "      <td>1.000000</td>\n",
       "      <td>-0.070675</td>\n",
       "      <td>0.355983</td>\n",
       "      <td>0.101451</td>\n",
       "      <td>-0.032603</td>\n",
       "      <td>0.361477</td>\n",
       "      <td>-0.069719</td>\n",
       "      <td>0.308576</td>\n",
       "      <td>0.119665</td>\n",
       "      <td>-0.401295</td>\n",
       "      <td>0.031868</td>\n",
       "    </tr>\n",
       "    <tr>\n",
       "      <th>fiber</th>\n",
       "      <td>-0.293413</td>\n",
       "      <td>0.500330</td>\n",
       "      <td>0.016719</td>\n",
       "      <td>-0.070675</td>\n",
       "      <td>1.000000</td>\n",
       "      <td>-0.356083</td>\n",
       "      <td>-0.141205</td>\n",
       "      <td>0.903374</td>\n",
       "      <td>-0.032243</td>\n",
       "      <td>0.297539</td>\n",
       "      <td>0.247226</td>\n",
       "      <td>-0.513061</td>\n",
       "      <td>0.584160</td>\n",
       "      <td>0.256096</td>\n",
       "    </tr>\n",
       "    <tr>\n",
       "      <th>carbo</th>\n",
       "      <td>0.250681</td>\n",
       "      <td>-0.130864</td>\n",
       "      <td>-0.318043</td>\n",
       "      <td>0.355983</td>\n",
       "      <td>-0.356083</td>\n",
       "      <td>1.000000</td>\n",
       "      <td>-0.331665</td>\n",
       "      <td>-0.349685</td>\n",
       "      <td>0.258148</td>\n",
       "      <td>-0.101790</td>\n",
       "      <td>0.135136</td>\n",
       "      <td>0.363932</td>\n",
       "      <td>0.052055</td>\n",
       "      <td>-0.137202</td>\n",
       "    </tr>\n",
       "    <tr>\n",
       "      <th>sugars</th>\n",
       "      <td>0.562340</td>\n",
       "      <td>-0.329142</td>\n",
       "      <td>0.270819</td>\n",
       "      <td>0.101451</td>\n",
       "      <td>-0.141205</td>\n",
       "      <td>-0.331665</td>\n",
       "      <td>1.000000</td>\n",
       "      <td>0.021696</td>\n",
       "      <td>0.125137</td>\n",
       "      <td>0.100438</td>\n",
       "      <td>0.450648</td>\n",
       "      <td>-0.032358</td>\n",
       "      <td>-0.759675</td>\n",
       "      <td>0.161480</td>\n",
       "    </tr>\n",
       "    <tr>\n",
       "      <th>potass</th>\n",
       "      <td>-0.066609</td>\n",
       "      <td>0.549407</td>\n",
       "      <td>0.193279</td>\n",
       "      <td>-0.032603</td>\n",
       "      <td>0.903374</td>\n",
       "      <td>-0.349685</td>\n",
       "      <td>0.021696</td>\n",
       "      <td>1.000000</td>\n",
       "      <td>0.020699</td>\n",
       "      <td>0.360663</td>\n",
       "      <td>0.416303</td>\n",
       "      <td>-0.495195</td>\n",
       "      <td>0.380165</td>\n",
       "      <td>0.318346</td>\n",
       "    </tr>\n",
       "    <tr>\n",
       "      <th>vitamins</th>\n",
       "      <td>0.265356</td>\n",
       "      <td>0.007335</td>\n",
       "      <td>-0.031156</td>\n",
       "      <td>0.361477</td>\n",
       "      <td>-0.032243</td>\n",
       "      <td>0.258148</td>\n",
       "      <td>0.125137</td>\n",
       "      <td>0.020699</td>\n",
       "      <td>1.000000</td>\n",
       "      <td>0.299262</td>\n",
       "      <td>0.320324</td>\n",
       "      <td>0.128405</td>\n",
       "      <td>-0.240544</td>\n",
       "      <td>-0.003091</td>\n",
       "    </tr>\n",
       "    <tr>\n",
       "      <th>shelf</th>\n",
       "      <td>0.097234</td>\n",
       "      <td>0.133865</td>\n",
       "      <td>0.263691</td>\n",
       "      <td>-0.069719</td>\n",
       "      <td>0.297539</td>\n",
       "      <td>-0.101790</td>\n",
       "      <td>0.100438</td>\n",
       "      <td>0.360663</td>\n",
       "      <td>0.299262</td>\n",
       "      <td>1.000000</td>\n",
       "      <td>0.190762</td>\n",
       "      <td>-0.335269</td>\n",
       "      <td>0.025159</td>\n",
       "      <td>0.358350</td>\n",
       "    </tr>\n",
       "    <tr>\n",
       "      <th>weight</th>\n",
       "      <td>0.696091</td>\n",
       "      <td>0.216158</td>\n",
       "      <td>0.214625</td>\n",
       "      <td>0.308576</td>\n",
       "      <td>0.247226</td>\n",
       "      <td>0.135136</td>\n",
       "      <td>0.450648</td>\n",
       "      <td>0.416303</td>\n",
       "      <td>0.320324</td>\n",
       "      <td>0.190762</td>\n",
       "      <td>1.000000</td>\n",
       "      <td>-0.199583</td>\n",
       "      <td>-0.298124</td>\n",
       "      <td>0.379858</td>\n",
       "    </tr>\n",
       "    <tr>\n",
       "      <th>cups</th>\n",
       "      <td>0.087200</td>\n",
       "      <td>-0.244469</td>\n",
       "      <td>-0.175892</td>\n",
       "      <td>0.119665</td>\n",
       "      <td>-0.513061</td>\n",
       "      <td>0.363932</td>\n",
       "      <td>-0.032358</td>\n",
       "      <td>-0.495195</td>\n",
       "      <td>0.128405</td>\n",
       "      <td>-0.335269</td>\n",
       "      <td>-0.199583</td>\n",
       "      <td>1.000000</td>\n",
       "      <td>-0.203160</td>\n",
       "      <td>-0.788987</td>\n",
       "    </tr>\n",
       "    <tr>\n",
       "      <th>rating</th>\n",
       "      <td>-0.689376</td>\n",
       "      <td>0.470618</td>\n",
       "      <td>-0.409284</td>\n",
       "      <td>-0.401295</td>\n",
       "      <td>0.584160</td>\n",
       "      <td>0.052055</td>\n",
       "      <td>-0.759675</td>\n",
       "      <td>0.380165</td>\n",
       "      <td>-0.240544</td>\n",
       "      <td>0.025159</td>\n",
       "      <td>-0.298124</td>\n",
       "      <td>-0.203160</td>\n",
       "      <td>1.000000</td>\n",
       "      <td>-0.086698</td>\n",
       "    </tr>\n",
       "    <tr>\n",
       "      <th>calories_per_cup</th>\n",
       "      <td>0.337821</td>\n",
       "      <td>0.220932</td>\n",
       "      <td>0.334962</td>\n",
       "      <td>0.031868</td>\n",
       "      <td>0.256096</td>\n",
       "      <td>-0.137202</td>\n",
       "      <td>0.161480</td>\n",
       "      <td>0.318346</td>\n",
       "      <td>-0.003091</td>\n",
       "      <td>0.358350</td>\n",
       "      <td>0.379858</td>\n",
       "      <td>-0.788987</td>\n",
       "      <td>-0.086698</td>\n",
       "      <td>1.000000</td>\n",
       "    </tr>\n",
       "  </tbody>\n",
       "</table>\n",
       "</div>"
      ],
      "text/plain": [
       "                  calories   protein       fat    sodium     fiber     carbo  \\\n",
       "calories          1.000000  0.019066  0.498610  0.300649 -0.293413  0.250681   \n",
       "protein           0.019066  1.000000  0.208431 -0.054674  0.500330 -0.130864   \n",
       "fat               0.498610  0.208431  1.000000 -0.005407  0.016719 -0.318043   \n",
       "sodium            0.300649 -0.054674 -0.005407  1.000000 -0.070675  0.355983   \n",
       "fiber            -0.293413  0.500330  0.016719 -0.070675  1.000000 -0.356083   \n",
       "carbo             0.250681 -0.130864 -0.318043  0.355983 -0.356083  1.000000   \n",
       "sugars            0.562340 -0.329142  0.270819  0.101451 -0.141205 -0.331665   \n",
       "potass           -0.066609  0.549407  0.193279 -0.032603  0.903374 -0.349685   \n",
       "vitamins          0.265356  0.007335 -0.031156  0.361477 -0.032243  0.258148   \n",
       "shelf             0.097234  0.133865  0.263691 -0.069719  0.297539 -0.101790   \n",
       "weight            0.696091  0.216158  0.214625  0.308576  0.247226  0.135136   \n",
       "cups              0.087200 -0.244469 -0.175892  0.119665 -0.513061  0.363932   \n",
       "rating           -0.689376  0.470618 -0.409284 -0.401295  0.584160  0.052055   \n",
       "calories_per_cup  0.337821  0.220932  0.334962  0.031868  0.256096 -0.137202   \n",
       "\n",
       "                    sugars    potass  vitamins     shelf    weight      cups  \\\n",
       "calories          0.562340 -0.066609  0.265356  0.097234  0.696091  0.087200   \n",
       "protein          -0.329142  0.549407  0.007335  0.133865  0.216158 -0.244469   \n",
       "fat               0.270819  0.193279 -0.031156  0.263691  0.214625 -0.175892   \n",
       "sodium            0.101451 -0.032603  0.361477 -0.069719  0.308576  0.119665   \n",
       "fiber            -0.141205  0.903374 -0.032243  0.297539  0.247226 -0.513061   \n",
       "carbo            -0.331665 -0.349685  0.258148 -0.101790  0.135136  0.363932   \n",
       "sugars            1.000000  0.021696  0.125137  0.100438  0.450648 -0.032358   \n",
       "potass            0.021696  1.000000  0.020699  0.360663  0.416303 -0.495195   \n",
       "vitamins          0.125137  0.020699  1.000000  0.299262  0.320324  0.128405   \n",
       "shelf             0.100438  0.360663  0.299262  1.000000  0.190762 -0.335269   \n",
       "weight            0.450648  0.416303  0.320324  0.190762  1.000000 -0.199583   \n",
       "cups             -0.032358 -0.495195  0.128405 -0.335269 -0.199583  1.000000   \n",
       "rating           -0.759675  0.380165 -0.240544  0.025159 -0.298124 -0.203160   \n",
       "calories_per_cup  0.161480  0.318346 -0.003091  0.358350  0.379858 -0.788987   \n",
       "\n",
       "                    rating  calories_per_cup  \n",
       "calories         -0.689376          0.337821  \n",
       "protein           0.470618          0.220932  \n",
       "fat              -0.409284          0.334962  \n",
       "sodium           -0.401295          0.031868  \n",
       "fiber             0.584160          0.256096  \n",
       "carbo             0.052055         -0.137202  \n",
       "sugars           -0.759675          0.161480  \n",
       "potass            0.380165          0.318346  \n",
       "vitamins         -0.240544         -0.003091  \n",
       "shelf             0.025159          0.358350  \n",
       "weight           -0.298124          0.379858  \n",
       "cups             -0.203160         -0.788987  \n",
       "rating            1.000000         -0.086698  \n",
       "calories_per_cup -0.086698          1.000000  "
      ]
     },
     "execution_count": 145,
     "metadata": {},
     "output_type": "execute_result"
    }
   ],
   "source": [
    "corr = df.corr()\n",
    "corr"
   ]
  },
  {
   "cell_type": "code",
   "execution_count": 146,
   "metadata": {},
   "outputs": [
    {
     "data": {
      "text/plain": [
       "calories          calories            1.000000\n",
       "                  protein             0.019066\n",
       "                  fat                 0.498610\n",
       "                  sodium              0.300649\n",
       "                  fiber               0.293413\n",
       "                                        ...   \n",
       "calories_per_cup  shelf               0.358350\n",
       "                  weight              0.379858\n",
       "                  cups                0.788987\n",
       "                  rating              0.086698\n",
       "                  calories_per_cup    1.000000\n",
       "Length: 196, dtype: float64"
      ]
     },
     "execution_count": 146,
     "metadata": {},
     "output_type": "execute_result"
    }
   ],
   "source": [
    "c = corr.abs().unstack()\n",
    "c"
   ]
  },
  {
   "cell_type": "code",
   "execution_count": 148,
   "metadata": {},
   "outputs": [
    {
     "data": {
      "text/html": [
       "<div>\n",
       "<style scoped>\n",
       "    .dataframe tbody tr th:only-of-type {\n",
       "        vertical-align: middle;\n",
       "    }\n",
       "\n",
       "    .dataframe tbody tr th {\n",
       "        vertical-align: top;\n",
       "    }\n",
       "\n",
       "    .dataframe thead th {\n",
       "        text-align: right;\n",
       "    }\n",
       "</style>\n",
       "<table border=\"1\" class=\"dataframe\">\n",
       "  <thead>\n",
       "    <tr style=\"text-align: right;\">\n",
       "      <th></th>\n",
       "      <th>level_0</th>\n",
       "      <th>level_1</th>\n",
       "      <th>0</th>\n",
       "    </tr>\n",
       "  </thead>\n",
       "  <tbody>\n",
       "    <tr>\n",
       "      <th>0</th>\n",
       "      <td>calories</td>\n",
       "      <td>calories</td>\n",
       "      <td>1.000000</td>\n",
       "    </tr>\n",
       "    <tr>\n",
       "      <th>1</th>\n",
       "      <td>calories</td>\n",
       "      <td>protein</td>\n",
       "      <td>0.019066</td>\n",
       "    </tr>\n",
       "    <tr>\n",
       "      <th>2</th>\n",
       "      <td>calories</td>\n",
       "      <td>fat</td>\n",
       "      <td>0.498610</td>\n",
       "    </tr>\n",
       "    <tr>\n",
       "      <th>3</th>\n",
       "      <td>calories</td>\n",
       "      <td>sodium</td>\n",
       "      <td>0.300649</td>\n",
       "    </tr>\n",
       "    <tr>\n",
       "      <th>4</th>\n",
       "      <td>calories</td>\n",
       "      <td>fiber</td>\n",
       "      <td>0.293413</td>\n",
       "    </tr>\n",
       "    <tr>\n",
       "      <th>...</th>\n",
       "      <td>...</td>\n",
       "      <td>...</td>\n",
       "      <td>...</td>\n",
       "    </tr>\n",
       "    <tr>\n",
       "      <th>191</th>\n",
       "      <td>calories_per_cup</td>\n",
       "      <td>shelf</td>\n",
       "      <td>0.358350</td>\n",
       "    </tr>\n",
       "    <tr>\n",
       "      <th>192</th>\n",
       "      <td>calories_per_cup</td>\n",
       "      <td>weight</td>\n",
       "      <td>0.379858</td>\n",
       "    </tr>\n",
       "    <tr>\n",
       "      <th>193</th>\n",
       "      <td>calories_per_cup</td>\n",
       "      <td>cups</td>\n",
       "      <td>0.788987</td>\n",
       "    </tr>\n",
       "    <tr>\n",
       "      <th>194</th>\n",
       "      <td>calories_per_cup</td>\n",
       "      <td>rating</td>\n",
       "      <td>0.086698</td>\n",
       "    </tr>\n",
       "    <tr>\n",
       "      <th>195</th>\n",
       "      <td>calories_per_cup</td>\n",
       "      <td>calories_per_cup</td>\n",
       "      <td>1.000000</td>\n",
       "    </tr>\n",
       "  </tbody>\n",
       "</table>\n",
       "<p>196 rows × 3 columns</p>\n",
       "</div>"
      ],
      "text/plain": [
       "              level_0           level_1         0\n",
       "0            calories          calories  1.000000\n",
       "1            calories           protein  0.019066\n",
       "2            calories               fat  0.498610\n",
       "3            calories            sodium  0.300649\n",
       "4            calories             fiber  0.293413\n",
       "..                ...               ...       ...\n",
       "191  calories_per_cup             shelf  0.358350\n",
       "192  calories_per_cup            weight  0.379858\n",
       "193  calories_per_cup              cups  0.788987\n",
       "194  calories_per_cup            rating  0.086698\n",
       "195  calories_per_cup  calories_per_cup  1.000000\n",
       "\n",
       "[196 rows x 3 columns]"
      ]
     },
     "execution_count": 148,
     "metadata": {},
     "output_type": "execute_result"
    }
   ],
   "source": [
    "df_c = pd.DataFrame(c).reset_index()\n",
    "df_c"
   ]
  },
  {
   "cell_type": "code",
   "execution_count": 150,
   "metadata": {},
   "outputs": [
    {
     "data": {
      "text/html": [
       "<div>\n",
       "<style scoped>\n",
       "    .dataframe tbody tr th:only-of-type {\n",
       "        vertical-align: middle;\n",
       "    }\n",
       "\n",
       "    .dataframe tbody tr th {\n",
       "        vertical-align: top;\n",
       "    }\n",
       "\n",
       "    .dataframe thead th {\n",
       "        text-align: right;\n",
       "    }\n",
       "</style>\n",
       "<table border=\"1\" class=\"dataframe\">\n",
       "  <thead>\n",
       "    <tr style=\"text-align: right;\">\n",
       "      <th></th>\n",
       "      <th>level_0</th>\n",
       "      <th>level_1</th>\n",
       "      <th>corr</th>\n",
       "    </tr>\n",
       "  </thead>\n",
       "  <tbody>\n",
       "    <tr>\n",
       "      <th>0</th>\n",
       "      <td>calories</td>\n",
       "      <td>calories</td>\n",
       "      <td>1.000000</td>\n",
       "    </tr>\n",
       "    <tr>\n",
       "      <th>1</th>\n",
       "      <td>calories</td>\n",
       "      <td>protein</td>\n",
       "      <td>0.019066</td>\n",
       "    </tr>\n",
       "    <tr>\n",
       "      <th>2</th>\n",
       "      <td>calories</td>\n",
       "      <td>fat</td>\n",
       "      <td>0.498610</td>\n",
       "    </tr>\n",
       "    <tr>\n",
       "      <th>3</th>\n",
       "      <td>calories</td>\n",
       "      <td>sodium</td>\n",
       "      <td>0.300649</td>\n",
       "    </tr>\n",
       "    <tr>\n",
       "      <th>4</th>\n",
       "      <td>calories</td>\n",
       "      <td>fiber</td>\n",
       "      <td>0.293413</td>\n",
       "    </tr>\n",
       "    <tr>\n",
       "      <th>...</th>\n",
       "      <td>...</td>\n",
       "      <td>...</td>\n",
       "      <td>...</td>\n",
       "    </tr>\n",
       "    <tr>\n",
       "      <th>191</th>\n",
       "      <td>calories_per_cup</td>\n",
       "      <td>shelf</td>\n",
       "      <td>0.358350</td>\n",
       "    </tr>\n",
       "    <tr>\n",
       "      <th>192</th>\n",
       "      <td>calories_per_cup</td>\n",
       "      <td>weight</td>\n",
       "      <td>0.379858</td>\n",
       "    </tr>\n",
       "    <tr>\n",
       "      <th>193</th>\n",
       "      <td>calories_per_cup</td>\n",
       "      <td>cups</td>\n",
       "      <td>0.788987</td>\n",
       "    </tr>\n",
       "    <tr>\n",
       "      <th>194</th>\n",
       "      <td>calories_per_cup</td>\n",
       "      <td>rating</td>\n",
       "      <td>0.086698</td>\n",
       "    </tr>\n",
       "    <tr>\n",
       "      <th>195</th>\n",
       "      <td>calories_per_cup</td>\n",
       "      <td>calories_per_cup</td>\n",
       "      <td>1.000000</td>\n",
       "    </tr>\n",
       "  </tbody>\n",
       "</table>\n",
       "<p>196 rows × 3 columns</p>\n",
       "</div>"
      ],
      "text/plain": [
       "              level_0           level_1      corr\n",
       "0            calories          calories  1.000000\n",
       "1            calories           protein  0.019066\n",
       "2            calories               fat  0.498610\n",
       "3            calories            sodium  0.300649\n",
       "4            calories             fiber  0.293413\n",
       "..                ...               ...       ...\n",
       "191  calories_per_cup             shelf  0.358350\n",
       "192  calories_per_cup            weight  0.379858\n",
       "193  calories_per_cup              cups  0.788987\n",
       "194  calories_per_cup            rating  0.086698\n",
       "195  calories_per_cup  calories_per_cup  1.000000\n",
       "\n",
       "[196 rows x 3 columns]"
      ]
     },
     "execution_count": 150,
     "metadata": {},
     "output_type": "execute_result"
    }
   ],
   "source": [
    "df_c = df_c.rename(columns= {0: \"corr\"})\n",
    "df_c"
   ]
  },
  {
   "cell_type": "code",
   "execution_count": 151,
   "metadata": {},
   "outputs": [
    {
     "data": {
      "text/html": [
       "<div>\n",
       "<style scoped>\n",
       "    .dataframe tbody tr th:only-of-type {\n",
       "        vertical-align: middle;\n",
       "    }\n",
       "\n",
       "    .dataframe tbody tr th {\n",
       "        vertical-align: top;\n",
       "    }\n",
       "\n",
       "    .dataframe thead th {\n",
       "        text-align: right;\n",
       "    }\n",
       "</style>\n",
       "<table border=\"1\" class=\"dataframe\">\n",
       "  <thead>\n",
       "    <tr style=\"text-align: right;\">\n",
       "      <th></th>\n",
       "      <th>level_0</th>\n",
       "      <th>level_1</th>\n",
       "      <th>corr</th>\n",
       "    </tr>\n",
       "  </thead>\n",
       "  <tbody>\n",
       "    <tr>\n",
       "      <th>0</th>\n",
       "      <td>calories</td>\n",
       "      <td>calories</td>\n",
       "      <td>1.000000</td>\n",
       "    </tr>\n",
       "    <tr>\n",
       "      <th>15</th>\n",
       "      <td>protein</td>\n",
       "      <td>protein</td>\n",
       "      <td>1.000000</td>\n",
       "    </tr>\n",
       "    <tr>\n",
       "      <th>180</th>\n",
       "      <td>rating</td>\n",
       "      <td>rating</td>\n",
       "      <td>1.000000</td>\n",
       "    </tr>\n",
       "    <tr>\n",
       "      <th>165</th>\n",
       "      <td>cups</td>\n",
       "      <td>cups</td>\n",
       "      <td>1.000000</td>\n",
       "    </tr>\n",
       "    <tr>\n",
       "      <th>150</th>\n",
       "      <td>weight</td>\n",
       "      <td>weight</td>\n",
       "      <td>1.000000</td>\n",
       "    </tr>\n",
       "    <tr>\n",
       "      <th>...</th>\n",
       "      <td>...</td>\n",
       "      <td>...</td>\n",
       "      <td>...</td>\n",
       "    </tr>\n",
       "    <tr>\n",
       "      <th>22</th>\n",
       "      <td>protein</td>\n",
       "      <td>vitamins</td>\n",
       "      <td>0.007335</td>\n",
       "    </tr>\n",
       "    <tr>\n",
       "      <th>44</th>\n",
       "      <td>sodium</td>\n",
       "      <td>fat</td>\n",
       "      <td>0.005407</td>\n",
       "    </tr>\n",
       "    <tr>\n",
       "      <th>31</th>\n",
       "      <td>fat</td>\n",
       "      <td>sodium</td>\n",
       "      <td>0.005407</td>\n",
       "    </tr>\n",
       "    <tr>\n",
       "      <th>190</th>\n",
       "      <td>calories_per_cup</td>\n",
       "      <td>vitamins</td>\n",
       "      <td>0.003091</td>\n",
       "    </tr>\n",
       "    <tr>\n",
       "      <th>125</th>\n",
       "      <td>vitamins</td>\n",
       "      <td>calories_per_cup</td>\n",
       "      <td>0.003091</td>\n",
       "    </tr>\n",
       "  </tbody>\n",
       "</table>\n",
       "<p>196 rows × 3 columns</p>\n",
       "</div>"
      ],
      "text/plain": [
       "              level_0           level_1      corr\n",
       "0            calories          calories  1.000000\n",
       "15            protein           protein  1.000000\n",
       "180            rating            rating  1.000000\n",
       "165              cups              cups  1.000000\n",
       "150            weight            weight  1.000000\n",
       "..                ...               ...       ...\n",
       "22            protein          vitamins  0.007335\n",
       "44             sodium               fat  0.005407\n",
       "31                fat            sodium  0.005407\n",
       "190  calories_per_cup          vitamins  0.003091\n",
       "125          vitamins  calories_per_cup  0.003091\n",
       "\n",
       "[196 rows x 3 columns]"
      ]
     },
     "execution_count": 151,
     "metadata": {},
     "output_type": "execute_result"
    }
   ],
   "source": [
    "df_c = df_c.sort_values(by=\"corr\", ascending = False)\n",
    "df_c"
   ]
  },
  {
   "cell_type": "code",
   "execution_count": 136,
   "metadata": {},
   "outputs": [
    {
     "data": {
      "text/plain": [
       "level_0      potass\n",
       "level_1       fiber\n",
       "corr       0.903374\n",
       "Name: 102, dtype: object"
      ]
     },
     "execution_count": 136,
     "metadata": {},
     "output_type": "execute_result"
    }
   ],
   "source": [
    "row = df_c[df_c[\"corr\"] <1].iloc[0]\n",
    "row"
   ]
  },
  {
   "cell_type": "code",
   "execution_count": 152,
   "metadata": {},
   "outputs": [
    {
     "data": {
      "text/plain": [
       "('potass', 'fiber')"
      ]
     },
     "execution_count": 152,
     "metadata": {},
     "output_type": "execute_result"
    }
   ],
   "source": [
    "row[\"level_0\"], row[\"level_1\"] "
   ]
  },
  {
   "cell_type": "code",
   "execution_count": null,
   "metadata": {},
   "outputs": [],
   "source": []
  }
 ],
 "metadata": {
  "kernelspec": {
   "display_name": "Python 3",
   "language": "python",
   "name": "python3"
  },
  "language_info": {
   "codemirror_mode": {
    "name": "ipython",
    "version": 3
   },
   "file_extension": ".py",
   "mimetype": "text/x-python",
   "name": "python",
   "nbconvert_exporter": "python",
   "pygments_lexer": "ipython3",
   "version": "3.8.3"
  }
 },
 "nbformat": 4,
 "nbformat_minor": 4
}
