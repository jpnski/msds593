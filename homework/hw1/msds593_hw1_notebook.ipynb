{
 "cells": [
  {
   "cell_type": "markdown",
   "metadata": {
    "colab_type": "text",
    "id": "qQsDU5mvXKRM"
   },
   "source": [
    "# MSDS-593: Homework 1 Notebook\n",
    "#### Tiance Tan\n",
    "#### Jacek Plonowski"
   ]
  },
  {
   "cell_type": "markdown",
   "metadata": {
    "colab_type": "text",
    "id": "omeo1LijpCNz"
   },
   "source": [
    "## Data Sources\n",
    "\n",
    "`cereal.csv` and `usa_mortality_rates.csv` files are being imported from my fork of the `msds593` repository on Github\n",
    " "
   ]
  },
  {
   "cell_type": "code",
   "execution_count": 1,
   "metadata": {
    "colab": {},
    "colab_type": "code",
    "id": "Yeo-P46RXklK"
   },
   "outputs": [],
   "source": [
    "import numpy as np\n",
    "import pandas as pd\n",
    "import matplotlib.pyplot as plt\n",
    "import matplotlib.pylab as pylab\n",
    "\n",
    "%matplotlib inline\n",
    "%config InlineBackend.figure_format = 'retina'"
   ]
  },
  {
   "cell_type": "code",
   "execution_count": 16,
   "metadata": {
    "colab": {
     "base_uri": "https://localhost:8080/",
     "height": 221
    },
    "colab_type": "code",
    "id": "sNV8xr9aYoep",
    "outputId": "05396b8f-7267-465d-8f5c-3dadb4078532"
   },
   "outputs": [
    {
     "data": {
      "text/html": [
       "<div>\n",
       "<style scoped>\n",
       "    .dataframe tbody tr th:only-of-type {\n",
       "        vertical-align: middle;\n",
       "    }\n",
       "\n",
       "    .dataframe tbody tr th {\n",
       "        vertical-align: top;\n",
       "    }\n",
       "\n",
       "    .dataframe thead th {\n",
       "        text-align: right;\n",
       "    }\n",
       "</style>\n",
       "<table border=\"1\" class=\"dataframe\">\n",
       "  <thead>\n",
       "    <tr style=\"text-align: right;\">\n",
       "      <th></th>\n",
       "      <th>name</th>\n",
       "      <th>mfr</th>\n",
       "      <th>type</th>\n",
       "      <th>calories</th>\n",
       "      <th>protein</th>\n",
       "      <th>fat</th>\n",
       "      <th>sodium</th>\n",
       "      <th>fiber</th>\n",
       "      <th>carbo</th>\n",
       "      <th>sugars</th>\n",
       "      <th>potass</th>\n",
       "      <th>vitamins</th>\n",
       "      <th>shelf</th>\n",
       "      <th>weight</th>\n",
       "      <th>cups</th>\n",
       "      <th>rating</th>\n",
       "    </tr>\n",
       "  </thead>\n",
       "  <tbody>\n",
       "    <tr>\n",
       "      <th>0</th>\n",
       "      <td>100% Bran</td>\n",
       "      <td>N</td>\n",
       "      <td>C</td>\n",
       "      <td>70</td>\n",
       "      <td>4</td>\n",
       "      <td>1</td>\n",
       "      <td>130</td>\n",
       "      <td>10.0</td>\n",
       "      <td>5.0</td>\n",
       "      <td>6</td>\n",
       "      <td>280</td>\n",
       "      <td>25</td>\n",
       "      <td>3</td>\n",
       "      <td>1.0</td>\n",
       "      <td>0.33</td>\n",
       "      <td>68.402973</td>\n",
       "    </tr>\n",
       "    <tr>\n",
       "      <th>1</th>\n",
       "      <td>100% Natural Bran</td>\n",
       "      <td>Q</td>\n",
       "      <td>C</td>\n",
       "      <td>120</td>\n",
       "      <td>3</td>\n",
       "      <td>5</td>\n",
       "      <td>15</td>\n",
       "      <td>2.0</td>\n",
       "      <td>8.0</td>\n",
       "      <td>8</td>\n",
       "      <td>135</td>\n",
       "      <td>0</td>\n",
       "      <td>3</td>\n",
       "      <td>1.0</td>\n",
       "      <td>1.00</td>\n",
       "      <td>33.983679</td>\n",
       "    </tr>\n",
       "    <tr>\n",
       "      <th>2</th>\n",
       "      <td>All-Bran</td>\n",
       "      <td>K</td>\n",
       "      <td>C</td>\n",
       "      <td>70</td>\n",
       "      <td>4</td>\n",
       "      <td>1</td>\n",
       "      <td>260</td>\n",
       "      <td>9.0</td>\n",
       "      <td>7.0</td>\n",
       "      <td>5</td>\n",
       "      <td>320</td>\n",
       "      <td>25</td>\n",
       "      <td>3</td>\n",
       "      <td>1.0</td>\n",
       "      <td>0.33</td>\n",
       "      <td>59.425505</td>\n",
       "    </tr>\n",
       "    <tr>\n",
       "      <th>3</th>\n",
       "      <td>All-Bran with Extra Fiber</td>\n",
       "      <td>K</td>\n",
       "      <td>C</td>\n",
       "      <td>50</td>\n",
       "      <td>4</td>\n",
       "      <td>0</td>\n",
       "      <td>140</td>\n",
       "      <td>14.0</td>\n",
       "      <td>8.0</td>\n",
       "      <td>0</td>\n",
       "      <td>330</td>\n",
       "      <td>25</td>\n",
       "      <td>3</td>\n",
       "      <td>1.0</td>\n",
       "      <td>0.50</td>\n",
       "      <td>93.704912</td>\n",
       "    </tr>\n",
       "    <tr>\n",
       "      <th>4</th>\n",
       "      <td>Almond Delight</td>\n",
       "      <td>R</td>\n",
       "      <td>C</td>\n",
       "      <td>110</td>\n",
       "      <td>2</td>\n",
       "      <td>2</td>\n",
       "      <td>200</td>\n",
       "      <td>1.0</td>\n",
       "      <td>14.0</td>\n",
       "      <td>8</td>\n",
       "      <td>-1</td>\n",
       "      <td>25</td>\n",
       "      <td>3</td>\n",
       "      <td>1.0</td>\n",
       "      <td>0.75</td>\n",
       "      <td>34.384843</td>\n",
       "    </tr>\n",
       "  </tbody>\n",
       "</table>\n",
       "</div>"
      ],
      "text/plain": [
       "                        name mfr type  calories  ...  shelf  weight  cups     rating\n",
       "0                  100% Bran   N    C        70  ...      3     1.0  0.33  68.402973\n",
       "1          100% Natural Bran   Q    C       120  ...      3     1.0  1.00  33.983679\n",
       "2                   All-Bran   K    C        70  ...      3     1.0  0.33  59.425505\n",
       "3  All-Bran with Extra Fiber   K    C        50  ...      3     1.0  0.50  93.704912\n",
       "4             Almond Delight   R    C       110  ...      3     1.0  0.75  34.384843\n",
       "\n",
       "[5 rows x 16 columns]"
      ]
     },
     "execution_count": 16,
     "metadata": {
      "tags": []
     },
     "output_type": "execute_result"
    }
   ],
   "source": [
    "url = 'https://raw.githubusercontent.com/jpnski/msds593/master/homework/hw1/cereal.csv'\n",
    "\n",
    "cereal_data = pd.read_csv(url)\n",
    "cereal_data.head(5)"
   ]
  },
  {
   "cell_type": "code",
   "execution_count": 17,
   "metadata": {
    "colab": {
     "base_uri": "https://localhost:8080/",
     "height": 85
    },
    "colab_type": "code",
    "id": "v5qqjAu_Y2VE",
    "outputId": "4665cbb3-a7b5-495e-ac48-fd93214ef1d8"
   },
   "outputs": [
    {
     "data": {
      "text/plain": [
       "Index(['name', 'mfr', 'type', 'calories', 'protein', 'fat', 'sodium', 'fiber',\n",
       "       'carbo', 'sugars', 'potass', 'vitamins', 'shelf', 'weight', 'cups',\n",
       "       'rating'],\n",
       "      dtype='object')"
      ]
     },
     "execution_count": 17,
     "metadata": {
      "tags": []
     },
     "output_type": "execute_result"
    }
   ],
   "source": [
    "cereal_data.columns"
   ]
  },
  {
   "cell_type": "code",
   "execution_count": 18,
   "metadata": {
    "colab": {
     "base_uri": "https://localhost:8080/",
     "height": 34
    },
    "colab_type": "code",
    "id": "a4gNgJNOZUsi",
    "outputId": "62bc04d8-ed15-43a9-ee1e-7c678a6cd715"
   },
   "outputs": [
    {
     "data": {
      "text/plain": [
       "(77, 16)"
      ]
     },
     "execution_count": 18,
     "metadata": {
      "tags": []
     },
     "output_type": "execute_result"
    }
   ],
   "source": [
    "cereal_data.shape"
   ]
  },
  {
   "cell_type": "markdown",
   "metadata": {
    "colab_type": "text",
    "id": "PVeY6bWcacff"
   },
   "source": [
    "## Objective\n",
    "* School will be purchasing a lot of cereal to feed students\n",
    "* Boss wants to choose a manufacturer and a product\n",
    "* Wants to prepare presentation for the executive team\n",
    "\n"
   ]
  },
  {
   "cell_type": "code",
   "execution_count": 19,
   "metadata": {
    "colab": {
     "base_uri": "https://localhost:8080/",
     "height": 221
    },
    "colab_type": "code",
    "id": "olwYu4Kte1JT",
    "outputId": "782e1613-080a-4a9c-d918-e7dd1203d7ca"
   },
   "outputs": [
    {
     "data": {
      "text/plain": [
       "0                     100% Bran\n",
       "1             100% Natural Bran\n",
       "2                      All-Bran\n",
       "3     All-Bran with Extra Fiber\n",
       "4                Almond Delight\n",
       "                ...            \n",
       "72                      Triples\n",
       "73                         Trix\n",
       "74                   Wheat Chex\n",
       "75                     Wheaties\n",
       "76          Wheaties Honey Gold\n",
       "Name: name, Length: 77, dtype: object"
      ]
     },
     "execution_count": 19,
     "metadata": {
      "tags": []
     },
     "output_type": "execute_result"
    }
   ],
   "source": [
    "cereal_data['name']"
   ]
  },
  {
   "cell_type": "code",
   "execution_count": 20,
   "metadata": {
    "colab": {
     "base_uri": "https://localhost:8080/",
     "height": 34
    },
    "colab_type": "code",
    "id": "BQJHZtWaajMM",
    "outputId": "f7ee6003-dc71-4792-fe1f-497d5c94b076"
   },
   "outputs": [
    {
     "name": "stdout",
     "output_type": "stream",
     "text": [
      "There are 77 unique cereals\n"
     ]
    }
   ],
   "source": [
    "print('There are', len(cereal_data['name'].unique()), 'unique cereals')"
   ]
  },
  {
   "cell_type": "markdown",
   "metadata": {
    "colab_type": "text",
    "id": "umh9cf2NpMhD"
   },
   "source": [
    "## Methods of Exploring the Data\n",
    "- Break dataset into subsets by manufacturer, compare data of each manufacturer\n",
    "    - To learn about which manufacturer makes higher rated/healthier products, etc. among all the manufacturers available"
   ]
  },
  {
   "cell_type": "code",
   "execution_count": 21,
   "metadata": {
    "colab": {
     "base_uri": "https://localhost:8080/",
     "height": 303
    },
    "colab_type": "code",
    "id": "4R6kLnkk2zHR",
    "outputId": "46727c11-2a25-4dc6-fe8c-8e154c796da7"
   },
   "outputs": [
    {
     "data": {
      "text/html": [
       "<div>\n",
       "<style scoped>\n",
       "    .dataframe tbody tr th:only-of-type {\n",
       "        vertical-align: middle;\n",
       "    }\n",
       "\n",
       "    .dataframe tbody tr th {\n",
       "        vertical-align: top;\n",
       "    }\n",
       "\n",
       "    .dataframe thead th {\n",
       "        text-align: right;\n",
       "    }\n",
       "</style>\n",
       "<table border=\"1\" class=\"dataframe\">\n",
       "  <thead>\n",
       "    <tr style=\"text-align: right;\">\n",
       "      <th></th>\n",
       "      <th>name</th>\n",
       "      <th>mfr</th>\n",
       "      <th>type</th>\n",
       "      <th>calories</th>\n",
       "      <th>protein</th>\n",
       "      <th>fat</th>\n",
       "      <th>sodium</th>\n",
       "      <th>fiber</th>\n",
       "      <th>carbo</th>\n",
       "      <th>sugars</th>\n",
       "      <th>potass</th>\n",
       "      <th>vitamins</th>\n",
       "      <th>shelf</th>\n",
       "      <th>weight</th>\n",
       "      <th>cups</th>\n",
       "      <th>rating</th>\n",
       "    </tr>\n",
       "  </thead>\n",
       "  <tbody>\n",
       "    <tr>\n",
       "      <th>0</th>\n",
       "      <td>100% Bran</td>\n",
       "      <td>N</td>\n",
       "      <td>C</td>\n",
       "      <td>70</td>\n",
       "      <td>4</td>\n",
       "      <td>1</td>\n",
       "      <td>130</td>\n",
       "      <td>10.0</td>\n",
       "      <td>5.0</td>\n",
       "      <td>6</td>\n",
       "      <td>280</td>\n",
       "      <td>25</td>\n",
       "      <td>3</td>\n",
       "      <td>1.00</td>\n",
       "      <td>0.33</td>\n",
       "      <td>68.402973</td>\n",
       "    </tr>\n",
       "    <tr>\n",
       "      <th>20</th>\n",
       "      <td>Cream of Wheat (Quick)</td>\n",
       "      <td>N</td>\n",
       "      <td>H</td>\n",
       "      <td>100</td>\n",
       "      <td>3</td>\n",
       "      <td>0</td>\n",
       "      <td>80</td>\n",
       "      <td>1.0</td>\n",
       "      <td>21.0</td>\n",
       "      <td>0</td>\n",
       "      <td>-1</td>\n",
       "      <td>0</td>\n",
       "      <td>2</td>\n",
       "      <td>1.00</td>\n",
       "      <td>1.00</td>\n",
       "      <td>64.533816</td>\n",
       "    </tr>\n",
       "    <tr>\n",
       "      <th>63</th>\n",
       "      <td>Shredded Wheat</td>\n",
       "      <td>N</td>\n",
       "      <td>C</td>\n",
       "      <td>80</td>\n",
       "      <td>2</td>\n",
       "      <td>0</td>\n",
       "      <td>0</td>\n",
       "      <td>3.0</td>\n",
       "      <td>16.0</td>\n",
       "      <td>0</td>\n",
       "      <td>95</td>\n",
       "      <td>0</td>\n",
       "      <td>1</td>\n",
       "      <td>0.83</td>\n",
       "      <td>1.00</td>\n",
       "      <td>68.235885</td>\n",
       "    </tr>\n",
       "    <tr>\n",
       "      <th>64</th>\n",
       "      <td>Shredded Wheat 'n'Bran</td>\n",
       "      <td>N</td>\n",
       "      <td>C</td>\n",
       "      <td>90</td>\n",
       "      <td>3</td>\n",
       "      <td>0</td>\n",
       "      <td>0</td>\n",
       "      <td>4.0</td>\n",
       "      <td>19.0</td>\n",
       "      <td>0</td>\n",
       "      <td>140</td>\n",
       "      <td>0</td>\n",
       "      <td>1</td>\n",
       "      <td>1.00</td>\n",
       "      <td>0.67</td>\n",
       "      <td>74.472949</td>\n",
       "    </tr>\n",
       "    <tr>\n",
       "      <th>65</th>\n",
       "      <td>Shredded Wheat spoon size</td>\n",
       "      <td>N</td>\n",
       "      <td>C</td>\n",
       "      <td>90</td>\n",
       "      <td>3</td>\n",
       "      <td>0</td>\n",
       "      <td>0</td>\n",
       "      <td>3.0</td>\n",
       "      <td>20.0</td>\n",
       "      <td>0</td>\n",
       "      <td>120</td>\n",
       "      <td>0</td>\n",
       "      <td>1</td>\n",
       "      <td>1.00</td>\n",
       "      <td>0.67</td>\n",
       "      <td>72.801787</td>\n",
       "    </tr>\n",
       "    <tr>\n",
       "      <th>68</th>\n",
       "      <td>Strawberry Fruit Wheats</td>\n",
       "      <td>N</td>\n",
       "      <td>C</td>\n",
       "      <td>90</td>\n",
       "      <td>2</td>\n",
       "      <td>0</td>\n",
       "      <td>15</td>\n",
       "      <td>3.0</td>\n",
       "      <td>15.0</td>\n",
       "      <td>5</td>\n",
       "      <td>90</td>\n",
       "      <td>25</td>\n",
       "      <td>2</td>\n",
       "      <td>1.00</td>\n",
       "      <td>1.00</td>\n",
       "      <td>59.363993</td>\n",
       "    </tr>\n",
       "  </tbody>\n",
       "</table>\n",
       "</div>"
      ],
      "text/plain": [
       "                         name mfr type  ...  weight  cups     rating\n",
       "0                   100% Bran   N    C  ...    1.00  0.33  68.402973\n",
       "20     Cream of Wheat (Quick)   N    H  ...    1.00  1.00  64.533816\n",
       "63             Shredded Wheat   N    C  ...    0.83  1.00  68.235885\n",
       "64     Shredded Wheat 'n'Bran   N    C  ...    1.00  0.67  74.472949\n",
       "65  Shredded Wheat spoon size   N    C  ...    1.00  0.67  72.801787\n",
       "68    Strawberry Fruit Wheats   N    C  ...    1.00  1.00  59.363993\n",
       "\n",
       "[6 rows x 16 columns]"
      ]
     },
     "execution_count": 21,
     "metadata": {
      "tags": []
     },
     "output_type": "execute_result"
    }
   ],
   "source": [
    "#selecting a subset of the data where manufacturer=='N' for Nabisco brand\n",
    "nabisco = cereal_data[cereal_data['mfr']=='N']\n",
    "nabisco"
   ]
  },
  {
   "cell_type": "markdown",
   "metadata": {
    "colab_type": "text",
    "id": "g-U071u6qPhq"
   },
   "source": [
    "- For a specific manufacturer, sort their products by their rating to see what are their top products"
   ]
  },
  {
   "cell_type": "code",
   "execution_count": 22,
   "metadata": {
    "colab": {
     "base_uri": "https://localhost:8080/",
     "height": 176
    },
    "colab_type": "code",
    "id": "RJFzJRN_hYDG",
    "outputId": "672f9f9c-eb50-4fab-c530-d8b31f5009eb"
   },
   "outputs": [
    {
     "data": {
      "text/html": [
       "<div>\n",
       "<style scoped>\n",
       "    .dataframe tbody tr th:only-of-type {\n",
       "        vertical-align: middle;\n",
       "    }\n",
       "\n",
       "    .dataframe tbody tr th {\n",
       "        vertical-align: top;\n",
       "    }\n",
       "\n",
       "    .dataframe thead th {\n",
       "        text-align: right;\n",
       "    }\n",
       "</style>\n",
       "<table border=\"1\" class=\"dataframe\">\n",
       "  <thead>\n",
       "    <tr style=\"text-align: right;\">\n",
       "      <th></th>\n",
       "      <th>name</th>\n",
       "      <th>mfr</th>\n",
       "      <th>type</th>\n",
       "      <th>calories</th>\n",
       "      <th>protein</th>\n",
       "      <th>fat</th>\n",
       "      <th>sodium</th>\n",
       "      <th>fiber</th>\n",
       "      <th>carbo</th>\n",
       "      <th>sugars</th>\n",
       "      <th>potass</th>\n",
       "      <th>vitamins</th>\n",
       "      <th>shelf</th>\n",
       "      <th>weight</th>\n",
       "      <th>cups</th>\n",
       "      <th>rating</th>\n",
       "    </tr>\n",
       "  </thead>\n",
       "  <tbody>\n",
       "    <tr>\n",
       "      <th>64</th>\n",
       "      <td>Shredded Wheat 'n'Bran</td>\n",
       "      <td>N</td>\n",
       "      <td>C</td>\n",
       "      <td>90</td>\n",
       "      <td>3</td>\n",
       "      <td>0</td>\n",
       "      <td>0</td>\n",
       "      <td>4.0</td>\n",
       "      <td>19.0</td>\n",
       "      <td>0</td>\n",
       "      <td>140</td>\n",
       "      <td>0</td>\n",
       "      <td>1</td>\n",
       "      <td>1.0</td>\n",
       "      <td>0.67</td>\n",
       "      <td>74.472949</td>\n",
       "    </tr>\n",
       "    <tr>\n",
       "      <th>65</th>\n",
       "      <td>Shredded Wheat spoon size</td>\n",
       "      <td>N</td>\n",
       "      <td>C</td>\n",
       "      <td>90</td>\n",
       "      <td>3</td>\n",
       "      <td>0</td>\n",
       "      <td>0</td>\n",
       "      <td>3.0</td>\n",
       "      <td>20.0</td>\n",
       "      <td>0</td>\n",
       "      <td>120</td>\n",
       "      <td>0</td>\n",
       "      <td>1</td>\n",
       "      <td>1.0</td>\n",
       "      <td>0.67</td>\n",
       "      <td>72.801787</td>\n",
       "    </tr>\n",
       "    <tr>\n",
       "      <th>0</th>\n",
       "      <td>100% Bran</td>\n",
       "      <td>N</td>\n",
       "      <td>C</td>\n",
       "      <td>70</td>\n",
       "      <td>4</td>\n",
       "      <td>1</td>\n",
       "      <td>130</td>\n",
       "      <td>10.0</td>\n",
       "      <td>5.0</td>\n",
       "      <td>6</td>\n",
       "      <td>280</td>\n",
       "      <td>25</td>\n",
       "      <td>3</td>\n",
       "      <td>1.0</td>\n",
       "      <td>0.33</td>\n",
       "      <td>68.402973</td>\n",
       "    </tr>\n",
       "  </tbody>\n",
       "</table>\n",
       "</div>"
      ],
      "text/plain": [
       "                         name mfr type  ...  weight  cups     rating\n",
       "64     Shredded Wheat 'n'Bran   N    C  ...     1.0  0.67  74.472949\n",
       "65  Shredded Wheat spoon size   N    C  ...     1.0  0.67  72.801787\n",
       "0                   100% Bran   N    C  ...     1.0  0.33  68.402973\n",
       "\n",
       "[3 rows x 16 columns]"
      ]
     },
     "execution_count": 22,
     "metadata": {
      "tags": []
     },
     "output_type": "execute_result"
    }
   ],
   "source": [
    "#top three cereals made by Post manufacturer, as indicated by their 'rating'\n",
    "nabisco = nabisco.sort_values(by='rating', ascending=False)\n",
    "nabisco.head(3)"
   ]
  },
  {
   "cell_type": "markdown",
   "metadata": {
    "colab_type": "text",
    "id": "eJzdN6INrOAJ"
   },
   "source": [
    "- Calculate statistics of the data to quantitatively compare between manufacturers"
   ]
  },
  {
   "cell_type": "code",
   "execution_count": 23,
   "metadata": {
    "colab": {
     "base_uri": "https://localhost:8080/",
     "height": 34
    },
    "colab_type": "code",
    "id": "dwSaRbJrqC23",
    "outputId": "f6553be9-4ec7-4d5e-ff58-ddf8e177e420"
   },
   "outputs": [
    {
     "data": {
      "text/plain": [
       "67.96856716666666"
      ]
     },
     "execution_count": 23,
     "metadata": {
      "tags": []
     },
     "output_type": "execute_result"
    }
   ],
   "source": [
    "nabisco_mean_rating = nabisco['rating'].mean()\n",
    "nabisco_mean_rating"
   ]
  },
  {
   "cell_type": "code",
   "execution_count": 24,
   "metadata": {
    "colab": {
     "base_uri": "https://localhost:8080/",
     "height": 153
    },
    "colab_type": "code",
    "id": "KRPRnBqstBPE",
    "outputId": "f251d562-f778-4d3f-efde-0452d211e11f"
   },
   "outputs": [
    {
     "data": {
      "text/plain": [
       "0    A\n",
       "1    G\n",
       "2    K\n",
       "3    N\n",
       "4    P\n",
       "5    Q\n",
       "6    R\n",
       "dtype: object"
      ]
     },
     "execution_count": 24,
     "metadata": {
      "tags": []
     },
     "output_type": "execute_result"
    }
   ],
   "source": [
    "manufacturer_list = np.unique(cereal_data['mfr'].values)\n",
    "manufacturer_list = pd.Series(manufacturer_list)\n",
    "manufacturer_list"
   ]
  },
  {
   "cell_type": "code",
   "execution_count": 25,
   "metadata": {
    "colab": {
     "base_uri": "https://localhost:8080/",
     "height": 136
    },
    "colab_type": "code",
    "id": "tE3ROcCosKHk",
    "outputId": "ab832f30-2c1e-46fb-a8d2-e651bdb8b9ea"
   },
   "outputs": [
    {
     "name": "stdout",
     "output_type": "stream",
     "text": [
      "A 's mean rating is 54.850917\n",
      "G 's mean rating is 34.48585168181818\n",
      "K 's mean rating is 44.03846234782609\n",
      "N 's mean rating is 67.96856716666666\n",
      "P 's mean rating is 41.70574411111111\n",
      "Q 's mean rating is 42.915989875\n",
      "R 's mean rating is 41.54299712500001\n"
     ]
    }
   ],
   "source": [
    "#get a series of the mean cereal ratings for all of the 7 manufacturers\n",
    "mean_ratings = list()\n",
    "\n",
    "for x in manufacturer_list:\n",
    "    products = cereal_data[cereal_data['mfr']==x]\n",
    "    product_mean_rating = products['rating'].mean()\n",
    "    print(x, '\\'s mean rating is', product_mean_rating) #verify mean corresponds to right mfr\n",
    "    mean_ratings.append(product_mean_rating)\n",
    "\n",
    "mean_ratings = pd.Series(mean_ratings)"
   ]
  },
  {
   "cell_type": "code",
   "execution_count": 26,
   "metadata": {
    "colab": {
     "base_uri": "https://localhost:8080/",
     "height": 266
    },
    "colab_type": "code",
    "id": "NgIZeJnCreun",
    "outputId": "968578a1-49aa-4cbf-b7c8-f7c172b7ba7e"
   },
   "outputs": [
    {
     "data": {
      "text/html": [
       "<div>\n",
       "<style scoped>\n",
       "    .dataframe tbody tr th:only-of-type {\n",
       "        vertical-align: middle;\n",
       "    }\n",
       "\n",
       "    .dataframe tbody tr th {\n",
       "        vertical-align: top;\n",
       "    }\n",
       "\n",
       "    .dataframe thead th {\n",
       "        text-align: right;\n",
       "    }\n",
       "</style>\n",
       "<table border=\"1\" class=\"dataframe\">\n",
       "  <thead>\n",
       "    <tr style=\"text-align: right;\">\n",
       "      <th></th>\n",
       "      <th>manufacturer</th>\n",
       "      <th>mean_rating</th>\n",
       "    </tr>\n",
       "  </thead>\n",
       "  <tbody>\n",
       "    <tr>\n",
       "      <th>3</th>\n",
       "      <td>N</td>\n",
       "      <td>67.968567</td>\n",
       "    </tr>\n",
       "    <tr>\n",
       "      <th>0</th>\n",
       "      <td>A</td>\n",
       "      <td>54.850917</td>\n",
       "    </tr>\n",
       "    <tr>\n",
       "      <th>2</th>\n",
       "      <td>K</td>\n",
       "      <td>44.038462</td>\n",
       "    </tr>\n",
       "    <tr>\n",
       "      <th>5</th>\n",
       "      <td>Q</td>\n",
       "      <td>42.915990</td>\n",
       "    </tr>\n",
       "    <tr>\n",
       "      <th>4</th>\n",
       "      <td>P</td>\n",
       "      <td>41.705744</td>\n",
       "    </tr>\n",
       "    <tr>\n",
       "      <th>6</th>\n",
       "      <td>R</td>\n",
       "      <td>41.542997</td>\n",
       "    </tr>\n",
       "    <tr>\n",
       "      <th>1</th>\n",
       "      <td>G</td>\n",
       "      <td>34.485852</td>\n",
       "    </tr>\n",
       "  </tbody>\n",
       "</table>\n",
       "</div>"
      ],
      "text/plain": [
       "  manufacturer  mean_rating\n",
       "3            N    67.968567\n",
       "0            A    54.850917\n",
       "2            K    44.038462\n",
       "5            Q    42.915990\n",
       "4            P    41.705744\n",
       "6            R    41.542997\n",
       "1            G    34.485852"
      ]
     },
     "execution_count": 26,
     "metadata": {
      "tags": []
     },
     "output_type": "execute_result"
    }
   ],
   "source": [
    "mfg_ratings = pd.DataFrame({\n",
    "    'manufacturer': manufacturer_list,\n",
    "    'mean_rating': mean_ratings\n",
    "    })\n",
    "\n",
    "mfg_ratings=mfg_ratings.sort_values(by='mean_rating', ascending=False)\n",
    "mfg_ratings"
   ]
  },
  {
   "cell_type": "markdown",
   "metadata": {
    "colab_type": "text",
    "id": "30aN4qwdZdQB"
   },
   "source": [
    "## Practice Basic Matplotlib"
   ]
  },
  {
   "cell_type": "code",
   "execution_count": 27,
   "metadata": {
    "colab": {
     "base_uri": "https://localhost:8080/",
     "height": 100
    },
    "colab_type": "code",
    "id": "UsV-kvOTZhzo",
    "outputId": "10d84e3b-558f-4b0a-a67b-57629884627a"
   },
   "outputs": [
    {
     "data": {
      "text/html": [
       "<div>\n",
       "<style scoped>\n",
       "    .dataframe tbody tr th:only-of-type {\n",
       "        vertical-align: middle;\n",
       "    }\n",
       "\n",
       "    .dataframe tbody tr th {\n",
       "        vertical-align: top;\n",
       "    }\n",
       "\n",
       "    .dataframe thead th {\n",
       "        text-align: right;\n",
       "    }\n",
       "</style>\n",
       "<table border=\"1\" class=\"dataframe\">\n",
       "  <thead>\n",
       "    <tr style=\"text-align: right;\">\n",
       "      <th></th>\n",
       "      <th>1960</th>\n",
       "      <th>1961</th>\n",
       "      <th>1962</th>\n",
       "      <th>1963</th>\n",
       "      <th>1964</th>\n",
       "      <th>1965</th>\n",
       "      <th>1966</th>\n",
       "      <th>1967</th>\n",
       "      <th>1968</th>\n",
       "      <th>1969</th>\n",
       "      <th>1970</th>\n",
       "      <th>1971</th>\n",
       "      <th>1972</th>\n",
       "      <th>1973</th>\n",
       "      <th>1974</th>\n",
       "      <th>1975</th>\n",
       "      <th>1976</th>\n",
       "      <th>1977</th>\n",
       "      <th>1978</th>\n",
       "      <th>1979</th>\n",
       "      <th>1980</th>\n",
       "      <th>1981</th>\n",
       "      <th>1982</th>\n",
       "      <th>1983</th>\n",
       "      <th>1984</th>\n",
       "      <th>1985</th>\n",
       "      <th>1986</th>\n",
       "      <th>1987</th>\n",
       "      <th>1988</th>\n",
       "      <th>1989</th>\n",
       "      <th>1990</th>\n",
       "      <th>1991</th>\n",
       "      <th>1992</th>\n",
       "      <th>1993</th>\n",
       "      <th>1994</th>\n",
       "      <th>1995</th>\n",
       "      <th>1996</th>\n",
       "      <th>1997</th>\n",
       "      <th>1998</th>\n",
       "      <th>1999</th>\n",
       "      <th>2000</th>\n",
       "      <th>2001</th>\n",
       "      <th>2002</th>\n",
       "      <th>2003</th>\n",
       "      <th>2004</th>\n",
       "      <th>2005</th>\n",
       "      <th>2006</th>\n",
       "      <th>2007</th>\n",
       "      <th>2008</th>\n",
       "      <th>2009</th>\n",
       "      <th>2010</th>\n",
       "      <th>2011</th>\n",
       "      <th>2012</th>\n",
       "      <th>2013</th>\n",
       "      <th>2014</th>\n",
       "      <th>2015</th>\n",
       "      <th>2016</th>\n",
       "      <th>2017</th>\n",
       "      <th>2018</th>\n",
       "    </tr>\n",
       "  </thead>\n",
       "  <tbody>\n",
       "    <tr>\n",
       "      <th>0</th>\n",
       "      <td>30.1</td>\n",
       "      <td>29.5</td>\n",
       "      <td>28.9</td>\n",
       "      <td>28.3</td>\n",
       "      <td>27.7</td>\n",
       "      <td>27.1</td>\n",
       "      <td>26.4</td>\n",
       "      <td>25.7</td>\n",
       "      <td>24.9</td>\n",
       "      <td>24.1</td>\n",
       "      <td>23.2</td>\n",
       "      <td>22.4</td>\n",
       "      <td>21.5</td>\n",
       "      <td>20.6</td>\n",
       "      <td>19.7</td>\n",
       "      <td>18.8</td>\n",
       "      <td>17.9</td>\n",
       "      <td>17.1</td>\n",
       "      <td>16.3</td>\n",
       "      <td>15.6</td>\n",
       "      <td>15</td>\n",
       "      <td>14.4</td>\n",
       "      <td>13.9</td>\n",
       "      <td>13.4</td>\n",
       "      <td>13</td>\n",
       "      <td>12.7</td>\n",
       "      <td>12.4</td>\n",
       "      <td>12.1</td>\n",
       "      <td>11.9</td>\n",
       "      <td>11.6</td>\n",
       "      <td>11.2</td>\n",
       "      <td>10.9</td>\n",
       "      <td>10.5</td>\n",
       "      <td>10.1</td>\n",
       "      <td>9.8</td>\n",
       "      <td>9.5</td>\n",
       "      <td>9.2</td>\n",
       "      <td>8.9</td>\n",
       "      <td>8.7</td>\n",
       "      <td>8.6</td>\n",
       "      <td>8.4</td>\n",
       "      <td>8.3</td>\n",
       "      <td>8.2</td>\n",
       "      <td>8.1</td>\n",
       "      <td>8.1</td>\n",
       "      <td>8</td>\n",
       "      <td>7.9</td>\n",
       "      <td>7.7</td>\n",
       "      <td>7.6</td>\n",
       "      <td>7.5</td>\n",
       "      <td>7.3</td>\n",
       "      <td>7.2</td>\n",
       "      <td>7.1</td>\n",
       "      <td>7</td>\n",
       "      <td>6.9</td>\n",
       "      <td>6.8</td>\n",
       "      <td>6.7</td>\n",
       "      <td>6.6</td>\n",
       "      <td>6.5</td>\n",
       "    </tr>\n",
       "  </tbody>\n",
       "</table>\n",
       "</div>"
      ],
      "text/plain": [
       "   1960  1961  1962  1963  1964  1965  ...  2013  2014  2015  2016  2017  2018\n",
       "0  30.1  29.5  28.9  28.3  27.7  27.1  ...     7   6.9   6.8   6.7   6.6   6.5\n",
       "\n",
       "[1 rows x 59 columns]"
      ]
     },
     "execution_count": 27,
     "metadata": {
      "tags": []
     },
     "output_type": "execute_result"
    }
   ],
   "source": [
    "url2 = 'https://raw.githubusercontent.com/jpnski/msds593/master/homework/hw1/usa_mortality_rates.csv'\n",
    "\n",
    "mortal_data = pd.read_csv(url2)\n",
    "mortal_data = mortal_data.drop(columns=\n",
    "                               ['Country Name',\n",
    "                               'Country Code',\n",
    "                               'Indicator Name',\n",
    "                               'Indicator Code'])\n",
    "\n",
    "mortal_data = mortal_data.iloc[:,:-1] #drop NaN 2019 val\n",
    "mortal_data"
   ]
  },
  {
   "cell_type": "code",
   "execution_count": 28,
   "metadata": {
    "colab": {},
    "colab_type": "code",
    "id": "J10Jfh-4ptBS"
   },
   "outputs": [],
   "source": [
    "#set some global rcparams for plotting\n",
    "params = {'legend.fontsize': 'large',\n",
    "          'figure.figsize': (10, 7),\n",
    "          'axes.labelsize': 'x-large',\n",
    "          'axes.titlesize':'x-large',\n",
    "          'xtick.labelsize':'x-large',\n",
    "          'ytick.labelsize':'x-large'}\n",
    "\n",
    "pylab.rcParams.update(params)"
   ]
  },
  {
   "cell_type": "code",
   "execution_count": 29,
   "metadata": {
    "colab": {
     "base_uri": "https://localhost:8080/",
     "height": 467
    },
    "colab_type": "code",
    "id": "yU-5oaKqdzxr",
    "outputId": "851727a8-7be8-424b-e076-ec03d5070ecc"
   },
   "outputs": [
    {
     "data": {
      "image/png": "[encoded data removed]",
      "text/plain": [
       "<Figure size 720x504 with 1 Axes>"
      ]
     },
     "metadata": {
      "image/png": {
       "height": 450,
       "width": 615
      },
      "needs_background": "light",
      "tags": []
     },
     "output_type": "display_data"
    }
   ],
   "source": [
    "#plot 1/3: line plot of mortality rate vs. years\n",
    "years = mortal_data.columns\n",
    "rates = mortal_data.iloc[0]\n",
    "\n",
    "fig, ax = plt.subplots()\n",
    "\n",
    "ax.plot(rates)\n",
    "ax.grid(alpha=0.50)\n",
    "ax.set_xticks(years[::5])\n",
    "ax.set_xticklabels(years[::5])\n",
    "\n",
    "ax.set_xlabel('Year')\n",
    "ax.set_ylabel('Mortality Rate (per 1000 births)')\n",
    "ax.set_title('Mortality Rates for Children (age<5)',\n",
    "             loc='left')\n",
    "\n",
    "plt.show()"
   ]
  },
  {
   "cell_type": "code",
   "execution_count": 30,
   "metadata": {
    "colab": {
     "base_uri": "https://localhost:8080/",
     "height": 467
    },
    "colab_type": "code",
    "id": "MOu3be_R6NuG",
    "outputId": "1a9cc86f-73fa-415d-8f22-6e937044e665"
   },
   "outputs": [
    {
     "data": {
      "image/png": "[encoded data removed]",
      "text/plain": [
       "<Figure size 720x504 with 1 Axes>"
      ]
     },
     "metadata": {
      "image/png": {
       "height": 450,
       "width": 629
      },
      "needs_background": "light",
      "tags": []
     },
     "output_type": "display_data"
    }
   ],
   "source": [
    "#plot 2/3: histogram of mortality rates from 1960-2018\n",
    "fig, ax = plt.subplots()\n",
    "\n",
    "ax.hist(rates, bins=10)\n",
    "\n",
    "maj_ticks = np.arange(5,30,5)\n",
    "min_ticks = np.arange(5,30,1)\n",
    "ax.set_xticks(maj_ticks)\n",
    "ax.set_xticks(min_ticks, minor=True)\n",
    "\n",
    "ax.set_xlabel('Mortality Rate')\n",
    "ax.set_ylabel('Quantity')\n",
    "ax.set_title('Distribution of Mortality Rates in Children (<5 y/o) from 1960 to 2018',\n",
    "             loc='left')\n",
    "\n",
    "plt.show()"
   ]
  },
  {
   "cell_type": "code",
   "execution_count": 31,
   "metadata": {
    "colab": {
     "base_uri": "https://localhost:8080/",
     "height": 467
    },
    "colab_type": "code",
    "id": "P-LOHLRf6TuC",
    "outputId": "7b2686f7-ec1b-42b5-8254-43ee1cd6e5c1"
   },
   "outputs": [
    {
     "data": {
      "image/png": "[encoded data removed]",
      "text/plain": [
       "<Figure size 720x504 with 1 Axes>"
      ]
     },
     "metadata": {
      "image/png": {
       "height": 450,
       "width": 615
      },
      "needs_background": "light",
      "tags": []
     },
     "output_type": "display_data"
    }
   ],
   "source": [
    "#plot 3/3: Box and whisker plots of mortality rates during each decade\n",
    "indexes = [0, 10, 20, 30, 40, 50]\n",
    "labels = (['1960s','1970s','1980s','1990s','2000s','2010s'])\n",
    "\n",
    "fig, ax = plt.subplots()\n",
    "\n",
    "decade_list = list()\n",
    "\n",
    "for x in indexes:\n",
    "    decade_data = mortal_data.iloc[:, x:x+9]\n",
    "    decade_list.append(decade_data)\n",
    "\n",
    "for i in range(len(decade_list)):\n",
    "    ax.boxplot(decade_list[i], positions = [i]) \n",
    "\n",
    "ax.get_xaxis().set_tick_params(direction='out')\n",
    "ax.set_xticks(np.arange(0, len(labels)))\n",
    "ax.set_xticklabels(labels)\n",
    "\n",
    "ax.set_xlabel('Decade')\n",
    "ax.set_ylabel('Mortality Rate')\n",
    "ax.set_title('Distributions of Mortality Rates in Children (<5 y/o) by Decade',\n",
    "             loc='left')\n",
    "\n",
    "plt.show()"
   ]
  },
  {
   "cell_type": "markdown",
   "metadata": {
    "colab_type": "text",
    "id": "1wxzzOavWd17"
   },
   "source": [
    "## Slopegraph"
   ]
  },
  {
   "cell_type": "code",
   "execution_count": null,
   "metadata": {
    "colab": {
     "base_uri": "https://localhost:8080/",
     "height": 422
    },
    "colab_type": "code",
    "id": "tttaI6WZLaxe",
    "outputId": "9df24b89-aee7-4dbb-9db1-75c2e6b6b0f3"
   },
   "outputs": [
    {
     "data": {
      "image/png": "[encoded data removed]",
      "text/plain": [
       "<Figure size 144x432 with 1 Axes>"
      ]
     },
     "metadata": {
      "needs_background": "light",
      "tags": []
     },
     "output_type": "display_data"
    }
   ],
   "source": [
    "fig, ax = plt.subplots(nrows=1, ncols=1, figsize=(2,6))\n",
    "plt.ylim(0.15,1)\n",
    "\n",
    "ax.set_xticks([2014,2015])\n",
    "ax.set_yticks([])\n",
    "ax.tick_params(axis='x', colors='dimgrey')\n",
    "\n",
    "ax.spines['top'].set_visible(False)\n",
    "ax.spines['right'].set_visible(False)\n",
    "ax.spines['bottom'].set_visible(True)\n",
    "ax.spines['bottom'].set_color('dimgrey')\n",
    "ax.spines['left'].set_visible(False)\n",
    "\n",
    "x1, y1 = [2014, 2015], [0.85, 0.91]\n",
    "x2, y2 = [2014, 2015], [0.80, 0.96]\n",
    "x3, y3 = [2014, 2015], [0.76, 0.75]\n",
    "x4, y4 = [2014, 2015], [0.59, 0.62]\n",
    "x5, y5 = [2014, 2015], [0.49, 0.33]\n",
    "x6, y6 = [2014, 2015], [0.41, 0.45]\n",
    "x7, y7 = [2014, 2015], [0.33, 0.42]\n",
    "\n",
    "plt.plot(x1, y1, x2, y2, x3, y3, x4, y4, x6, y6, x7, y7, \n",
    "         marker = 'o', c = 'dimgrey',linewidth = 3.3)\n",
    "plt.plot(x5, y5, marker = 'o', c = 'tomato',linewidth = 3.3)\n",
    "\n",
    "\n",
    "ax.text(0.5, 1.06, 'Employee feedback over time',\n",
    "        horizontalalignment='right',\n",
    "        verticalalignment='top',\n",
    "        fontsize = 'xx-large',\n",
    "        transform=ax.transAxes)\n",
    "\n",
    "ax.text(0.5, 0.95, 'Survey category | Percent favorable',\n",
    "        horizontalalignment='right',\n",
    "        verticalalignment='top',\n",
    "        fontsize = 'large',\n",
    "        c = 'dimgrey',\n",
    "        transform=ax.transAxes)\n",
    "\n",
    "ax.text(0.58, -0.1, 'Survey year',\n",
    "        horizontalalignment='right',\n",
    "        verticalalignment='top',\n",
    "        fontsize = 'large',\n",
    "        c = 'dimgrey',\n",
    "        transform=ax.transAxes)\n",
    "\n",
    "ax.text(-0.05, 0.845, 'Peers  85%',\n",
    "        horizontalalignment='right',\n",
    "        verticalalignment='top',\n",
    "        fontsize = 'x-large',\n",
    "        c = 'dimgrey',\n",
    "        transform=ax.transAxes)\n",
    "\n",
    "ax.text(-0.05, 0.78, 'Culture  80%',\n",
    "        horizontalalignment='right',\n",
    "        verticalalignment='top',\n",
    "        fontsize = 'x-large',\n",
    "        c = 'dimgrey',\n",
    "        transform=ax.transAxes)\n",
    "\n",
    "ax.text(-0.05, 0.725, 'Work environment  76%',\n",
    "        horizontalalignment='right',\n",
    "        verticalalignment='top',\n",
    "        fontsize = 'x-large',\n",
    "        c = 'dimgrey',\n",
    "        transform=ax.transAxes)\n",
    "\n",
    "ax.text(-0.05, 0.53, 'Leadership  59%',\n",
    "        horizontalalignment='right',\n",
    "        verticalalignment='top',\n",
    "        fontsize = 'x-large',\n",
    "        c = 'dimgrey',\n",
    "        transform=ax.transAxes)\n",
    "\n",
    "ax.text(-0.05, 0.42, 'Career development  49%',\n",
    "        horizontalalignment='right',\n",
    "        verticalalignment='top',\n",
    "        fontsize = 'x-large',\n",
    "        c = 'tomato',\n",
    "        transform=ax.transAxes)\n",
    "\n",
    "ax.text(-0.05, 0.32, 'Rewards & recognition  41%',\n",
    "        horizontalalignment='right',\n",
    "        verticalalignment='top',\n",
    "        fontsize = 'x-large',\n",
    "        c = 'dimgrey',\n",
    "        transform=ax.transAxes)\n",
    "\n",
    "ax.text(-0.05, 0.23, 'Perf management  33%',\n",
    "        horizontalalignment='right',\n",
    "        verticalalignment='top',\n",
    "        fontsize = 'x-large',\n",
    "        c = 'dimgrey',\n",
    "        transform=ax.transAxes)\n",
    "\n",
    "ax.text(1.03, 0.95, '96%', fontsize = 'x-large', c = 'dimgrey', transform=ax.transAxes)\n",
    "ax.text(1.03, 0.88, '91%', fontsize = 'x-large', c = 'dimgrey', transform=ax.transAxes)\n",
    "ax.text(1.03, 0.695, '75%', fontsize = 'x-large', c = 'dimgrey', transform=ax.transAxes)\n",
    "ax.text(1.03, 0.54, '62%', fontsize = 'x-large', c = 'dimgrey', transform=ax.transAxes)\n",
    "ax.text(1.03, 0.35, '45%', fontsize = 'x-large', c = 'dimgrey', transform=ax.transAxes)\n",
    "ax.text(1.03, 0.3, '42%', fontsize = 'x-large', c = 'dimgrey', transform=ax.transAxes)\n",
    "ax.text(1.03, 0.2, '33%', fontsize = 'x-large', c = 'tomato', transform=ax.transAxes)\n",
    "\n",
    "\n",
    "plt.show()"
   ]
  }
 ],
 "metadata": {
  "colab": {
   "collapsed_sections": [],
   "name": "MSDS_593_HW1.ipynb",
   "provenance": []
  },
  "kernelspec": {
   "display_name": "Python 3",
   "language": "python",
   "name": "python3"
  },
  "language_info": {
   "codemirror_mode": {
    "name": "ipython",
    "version": 3
   },
   "file_extension": ".py",
   "mimetype": "text/x-python",
   "name": "python",
   "nbconvert_exporter": "python",
   "pygments_lexer": "ipython3",
   "version": "3.8.5"
  }
 },
 "nbformat": 4,
 "nbformat_minor": 1
}
